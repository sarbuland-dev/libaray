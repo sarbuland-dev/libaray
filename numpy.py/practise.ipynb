{
 "cells": [
  {
   "cell_type": "code",
   "execution_count": 3,
   "id": "a3128192",
   "metadata": {},
   "outputs": [
    {
     "name": "stdout",
     "output_type": "stream",
     "text": [
      "[1 4 5 6 7]\n",
      "[[123   2   3   4]\n",
      " [  6   7   8   9]]\n",
      "python list [1, 2, 3, 4, 1, 2, 3, 4]\n",
      "python list [2 4 6 8]\n"
     ]
    }
   ],
   "source": [
    "import numpy as np\n",
    "arry1d=np.array([1,4,5,6,7])\n",
    "print(arry1d)\n",
    "arry=np.array([[123,2,3,4],[6,7,8,9]])\n",
    "print(arry)\n",
    "py_list=[1,2,3,4]\n",
    "print(\"python list\",py_list*2)\n",
    "py_list=np.array([1,2,3,4])\n",
    "print(\"python list\",py_list*2)"
   ]
  },
  {
   "cell_type": "code",
   "execution_count": 9,
   "id": "36b858a5",
   "metadata": {},
   "outputs": [
    {
     "name": "stdout",
     "output_type": "stream",
     "text": [
      "0.002752542495727539\n",
      "0.002155303955078125\n"
     ]
    }
   ],
   "source": [
    "import time\n",
    "start=time.time()\n",
    "my_list=[i*2 for i in range(10000)]\n",
    "print(time.time()-start)\n",
    "\n",
    "import numpy as np\n",
    "start=time.time()\n",
    "my_arry=np.arange(100000)*2\n",
    "print(time.time()-start)\n"
   ]
  },
  {
   "cell_type": "markdown",
   "id": "19ade7a1",
   "metadata": {},
   "source": [
    "creating array from scratch\n",
    "\n"
   ]
  },
  {
   "cell_type": "code",
   "execution_count": 18,
   "id": "33a1b9e8",
   "metadata": {},
   "outputs": [
    {
     "name": "stdout",
     "output_type": "stream",
     "text": [
      "[[0. 0. 0. 0.]\n",
      " [0. 0. 0. 0.]\n",
      " [0. 0. 0. 0.]]\n",
      "[[1. 1. 1.]\n",
      " [1. 1. 1.]]\n",
      "[['*' '*' '*']\n",
      " ['*' '*' '*']]\n",
      "[[0.09803614 0.19655361 0.58817357]\n",
      " [0.83308658 0.81641987 0.73362803]]\n"
     ]
    }
   ],
   "source": [
    "import numpy as np\n",
    "zero=np.zeros((3,4))\n",
    "print(zero)\n",
    "\n",
    "one=np.ones((2,3))\n",
    "print(one)\n",
    "\n",
    "full=np.full((2,3),\"*\")\n",
    "print(full)\n",
    "\n",
    "random=np.random.random((2,3))\n",
    "print(random)\n",
    "\n"
   ]
  },
  {
   "cell_type": "markdown",
   "id": "6eb51b59",
   "metadata": {},
   "source": [
    "numpy array operation "
   ]
  },
  {
   "cell_type": "code",
   "execution_count": 12,
   "id": "40590a7a",
   "metadata": {},
   "outputs": [
    {
     "name": "stdout",
     "output_type": "stream",
     "text": [
      "with slicing [3 4 5 6 7 8]\n",
      "with slicing with step [3 5 7]\n",
      "negative silicing 7\n",
      "in 2d arry 9\n",
      "in 2d array with no row define [2 5 8]\n"
     ]
    }
   ],
   "source": [
    "import numpy as np\n",
    "arr=np.array([1,2,3,4,5,6,7,8,9])\n",
    "print(\"with slicing\",arr[2:8])\n",
    "arr=np.array([1,2,3,4,5,6,7,8,9])\n",
    "print(\"with slicing with step\",arr[2:8:2])\n",
    "arr=np.array([1,2,3,4,5,6,7,8,9])\n",
    "print(\"negative silicing\",arr[-3])\n",
    "arr=np.array([[1,2,3],\n",
    "              [4,5,6],\n",
    "              [7,8,9]])\n",
    "print(\"in 2d arry\",arr[2,2])\n",
    "arr=np.array([[1,2,3],\n",
    "              [4,5,6],\n",
    "              [7,8,9]])\n",
    "print(\"in 2d array with no row define\",arr[:,1])"
   ]
  },
  {
   "cell_type": "markdown",
   "id": "85649abb",
   "metadata": {},
   "source": [
    "sorting"
   ]
  },
  {
   "cell_type": "code",
   "execution_count": 20,
   "id": "63653be3",
   "metadata": {},
   "outputs": [
    {
     "name": "stdout",
     "output_type": "stream",
     "text": [
      "sorting [0 1 1 2 2 2 3 5 6 8 9]\n",
      "sorting by columns [[1 2 3]\n",
      " [4 4 5]\n",
      " [7 7 8]]\n",
      "even number [ 2  4  6  8 10]\n",
      "mask in even number  [ 6  8 10]\n",
      "even number with mask with index [4 6 8]\n"
     ]
    }
   ],
   "source": [
    "import numpy as np\n",
    "arr=np.array([1,2,6,5,8,1,2,2,3,0,9])\n",
    "print(\"sorting\",np.sort(arr))\n",
    "arr=np.array([[1,4,5],[4,7,8],[7,2,3]])\n",
    "print(\"sorting by columns\",np.sort(arr,axis=0))\n",
    "\n",
    "# even numbers\n",
    "arr=np.array([1,2,3,4,5,6,7,8,9,10])\n",
    "number=arr[arr%2==0]\n",
    "print(\"even number\",number)\n",
    "\n",
    "# add mask on even number\n",
    "mask=number>5\n",
    "print(\"mask in even number \",number[mask])\n",
    "\n",
    "# indexts\n",
    "ind=[1,2,3]\n",
    "print(\"even number with mask with index\",number[ind])\n"
   ]
  },
  {
   "cell_type": "markdown",
   "id": "17e264e6",
   "metadata": {},
   "source": [
    "fancy indexing VS np.where()"
   ]
  },
  {
   "cell_type": "code",
   "execution_count": 10,
   "id": "2d4e7e8d",
   "metadata": {},
   "outputs": [
    {
     "name": "stdout",
     "output_type": "stream",
     "text": [
      "[10 30 50]\n",
      "[20 30 40 50]\n",
      "[ 20  40  60  80 100]\n"
     ]
    }
   ],
   "source": [
    "import numpy as np\n",
    "\n",
    "arr = np.array([10, 20, 30, 40, 50])\n",
    "ind = [0, 2, 4]\n",
    "print(arr[ind])\n",
    "where=np.where(arr>10)\n",
    "print(arr[where])\n",
    "\n",
    "result = np.where(arr > 4, arr * 2, arr)\n",
    "print(result)\n",
    "\n"
   ]
  },
  {
   "cell_type": "markdown",
   "id": "cb55b92a",
   "metadata": {},
   "source": [
    "adding and revome data"
   ]
  },
  {
   "cell_type": "code",
   "execution_count": 11,
   "id": "5d62d1f6",
   "metadata": {},
   "outputs": [
    {
     "name": "stdout",
     "output_type": "stream",
     "text": [
      "[1 2 3 4 5 6]\n"
     ]
    }
   ],
   "source": [
    "arr1=np.array([1,2,3])\n",
    "arr2=np.array([4,5,6])\n",
    "com=np.concatenate((arr1 ,arr2))\n",
    "print(com)"
   ]
  },
  {
   "cell_type": "markdown",
   "id": "f6afe0c6",
   "metadata": {},
   "source": [
    "array capatibilty"
   ]
  },
  {
   "cell_type": "code",
   "execution_count": 23,
   "id": "135b9c00",
   "metadata": {},
   "outputs": [
    {
     "name": "stdout",
     "output_type": "stream",
     "text": [
      "capatabilty shape True\n",
      "[[1 2]\n",
      " [3 4]]\n",
      "[[1 2]\n",
      " [3 4]\n",
      " [4 5]]\n",
      "[[1 2 3]\n",
      " [3 4 4]]\n",
      "[1 2 3]\n"
     ]
    }
   ],
   "source": [
    "a=np.array([1,2,3])\n",
    "b=np.array([4,5,6])\n",
    "c=np.array([8,9,2])\n",
    "print(\"capatabilty shape\",a.shape==b.shape==c.shape)\n",
    "\n",
    "orginal=np.array([[1,2],[3,4]])\n",
    "new=np.array([[4,5]])\n",
    "with_new=np.vstack((orginal,new))\n",
    "print(orginal)\n",
    "print(with_new)\n",
    "\n",
    "new_col=np.array([[3],[4]])\n",
    "with_col=np.hstack((orginal,new_col))\n",
    "print(with_col)\n",
    "\n",
    "arr=np.array([1,2,3,4])\n",
    "re=np.delete(arr,3)\n",
    "print(re)"
   ]
  },
  {
   "cell_type": "markdown",
   "id": "bde74164",
   "metadata": {},
   "source": [
    "advance opteration with business example"
   ]
  },
  {
   "cell_type": "code",
   "execution_count": 9,
   "id": "4919df2e",
   "metadata": {},
   "outputs": [],
   "source": [
    "import numpy as np\n",
    "import matplotlib.pyplot as plt\n",
    "\n",
    "\n",
    "\n",
    "\n",
    "\n"
   ]
  },
  {
   "cell_type": "code",
   "execution_count": 36,
   "id": "4f3d5c5b",
   "metadata": {},
   "outputs": [
    {
     "name": "stdout",
     "output_type": "stream",
     "text": [
      "(4, 5)\n",
      "\n",
      " first four element \n",
      " [[      1   18000   20000  450000 6700000]\n",
      " [      2  340000  450000   67000   12000]\n",
      " [      3   12000  340000  230000   56000]]\n",
      "\n",
      "chossing columns \n",
      " [[  18000   20000  450000 6700000]\n",
      " [ 340000  450000   67000   12000]\n",
      " [  12000  340000  230000   56000]\n",
      " [ 120000   34000   56000   89000]]\n",
      "[     10  490000  844000  803000 6857000] \n",
      "\n",
      "sum [ 490000  844000  803000 6857000] \n",
      "\n",
      "min [12000 20000 56000 12000] \n",
      "\n",
      "min [18000 12000 12000 34000] \n",
      "\n",
      "max [ 340000  450000  450000 6700000] \n",
      "\n",
      "mean [ 122500.  211000.  200750. 1714250.] \n",
      "\n",
      "cumsum [[  18000   20000  450000 6700000]\n",
      " [ 358000  470000  517000 6712000]\n",
      " [ 370000  810000  747000 6768000]\n",
      " [ 490000  844000  803000 6857000]] \n",
      "\n",
      "cumsum [[  18000   38000  488000 7188000]\n",
      " [ 340000  790000  857000  869000]\n",
      " [  12000  352000  582000  638000]\n",
      " [ 120000  154000  210000  299000]] \n",
      "\n"
     ]
    },
    {
     "data": {
      "image/png": "[encoded data removed]",
      "text/plain": [
       "<Figure size 600x600 with 1 Axes>"
      ]
     },
     "metadata": {},
     "output_type": "display_data"
    }
   ],
   "source": [
    "datastructure=[id,2021,2022,2023,2024]\n",
    "sales=np.array([\n",
    "    [1,18000,20000,450000,6700000], # briyani\n",
    "    [2,340000,450000,67000,12000],#kabab chezzz\n",
    "    [3,12000,340000,230000,56000],#plate\n",
    "    [4,120000,34000,56000,89000]#burger\n",
    "\n",
    "\n",
    "])\n",
    "print(sales.shape)\n",
    "print(\"\\n first four element \\n\",sales[0:3])\n",
    "print(\"\\nchossing columns \\n\",sales[:, 1:])\n",
    "print(np.sum(sales,axis=0),\"\\n\")\n",
    "print(\"sum\",np.sum(sales[:,1:],axis=0),\"\\n\")\n",
    "print(\"min\",np.min(sales[:, 1:],axis=0),\"\\n\")\n",
    "print(\"min\",np.min(sales[:, 1:],axis=1),\"\\n\")\n",
    "print(\"max\",np.max(sales[:, 1:],axis=0),\"\\n\")\n",
    "print(\"mean\",np.mean(sales[:, 1:],axis=0),\"\\n\")\n",
    "print(\"cumsum\",np.cumsum(sales[:, 1:],axis=0),\"\\n\")\n",
    "print(\"cumsum\",np.cumsum(sales[:, 1:],axis=1),\"\\n\")\n",
    "cumsum=np.cumsum(sales[:, 1:],axis=1)\n",
    "\n",
    "\n",
    "plt.figure(figsize=(6,6))\n",
    "plt.plot(np.mean(cumsum,axis=0))\n",
    "plt.title(\"Avergae cumulative sales \")\n",
    "plt.xlabel(\"year\")\n",
    "plt.ylabel(\"sales\")\n",
    "plt.grid(True)\n",
    "plt.show()\n",
    "\n"
   ]
  },
  {
   "cell_type": "code",
   "execution_count": null,
   "id": "dace1fe9",
   "metadata": {},
   "outputs": [],
   "source": [
    "import numpy as np\n",
    "import matplotlib.pyplot as plt\n",
    "plt.figure(figsize=(10,6))\n",
    "plt.plot(np.mean(cumsum))"
   ]
  }
 ],
 "metadata": {
  "kernelspec": {
   "display_name": "libaray",
   "language": "python",
   "name": "python3"
  },
  "language_info": {
   "codemirror_mode": {
    "name": "ipython",
    "version": 3
   },
   "file_extension": ".py",
   "mimetype": "text/x-python",
   "name": "python",
   "nbconvert_exporter": "python",
   "pygments_lexer": "ipython3",
   "version": "3.13.5"
  }
 },
 "nbformat": 4,
 "nbformat_minor": 5
}
