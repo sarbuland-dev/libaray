{
 "cells": [
  {
   "cell_type": "code",
   "execution_count": 3,
   "id": "a3128192",
   "metadata": {},
   "outputs": [
    {
     "name": "stdout",
     "output_type": "stream",
     "text": [
      "[1 4 5 6 7]\n",
      "[[123   2   3   4]\n",
      " [  6   7   8   9]]\n",
      "python list [1, 2, 3, 4, 1, 2, 3, 4]\n",
      "python list [2 4 6 8]\n"
     ]
    }
   ],
   "source": [
    "import numpy as np\n",
    "arry1d=np.array([1,4,5,6,7])\n",
    "print(arry1d)\n",
    "arry=np.array([[123,2,3,4],[6,7,8,9]])\n",
    "print(arry)\n",
    "py_list=[1,2,3,4]\n",
    "print(\"python list\",py_list*2)\n",
    "py_list=np.array([1,2,3,4])\n",
    "print(\"python list\",py_list*2)"
   ]
  },
  {
   "cell_type": "code",
   "execution_count": 9,
   "id": "36b858a5",
   "metadata": {},
   "outputs": [
    {
     "name": "stdout",
     "output_type": "stream",
     "text": [
      "0.002752542495727539\n",
      "0.002155303955078125\n"
     ]
    }
   ],
   "source": [
    "import time\n",
    "start=time.time()\n",
    "my_list=[i*2 for i in range(10000)]\n",
    "print(time.time()-start)\n",
    "\n",
    "import numpy as np\n",
    "start=time.time()\n",
    "my_arry=np.arange(100000)*2\n",
    "print(time.time()-start)\n"
   ]
  },
  {
   "cell_type": "markdown",
   "id": "19ade7a1",
   "metadata": {},
   "source": [
    "creating array from scratch\n",
    "\n"
   ]
  },
  {
   "cell_type": "code",
   "execution_count": 18,
   "id": "33a1b9e8",
   "metadata": {},
   "outputs": [
    {
     "name": "stdout",
     "output_type": "stream",
     "text": [
      "[[0. 0. 0. 0.]\n",
      " [0. 0. 0. 0.]\n",
      " [0. 0. 0. 0.]]\n",
      "[[1. 1. 1.]\n",
      " [1. 1. 1.]]\n",
      "[['*' '*' '*']\n",
      " ['*' '*' '*']]\n",
      "[[0.09803614 0.19655361 0.58817357]\n",
      " [0.83308658 0.81641987 0.73362803]]\n"
     ]
    }
   ],
   "source": [
    "import numpy as np\n",
    "zero=np.zeros((3,4))\n",
    "print(zero)\n",
    "\n",
    "one=np.ones((2,3))\n",
    "print(one)\n",
    "\n",
    "full=np.full((2,3),\"*\")\n",
    "print(full)\n",
    "\n",
    "random=np.random.random((2,3))\n",
    "print(random)\n",
    "\n"
   ]
  }
 ],
 "metadata": {
  "kernelspec": {
   "display_name": "libaray",
   "language": "python",
   "name": "python3"
  },
  "language_info": {
   "codemirror_mode": {
    "name": "ipython",
    "version": 3
   },
   "file_extension": ".py",
   "mimetype": "text/x-python",
   "name": "python",
   "nbconvert_exporter": "python",
   "pygments_lexer": "ipython3",
   "version": "3.13.5"
  }
 },
 "nbformat": 4,
 "nbformat_minor": 5
}
