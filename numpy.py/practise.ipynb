{
 "cells": [
  {
   "cell_type": "code",
   "execution_count": 2,
   "id": "a3128192",
   "metadata": {},
   "outputs": [
    {
     "name": "stdout",
     "output_type": "stream",
     "text": [
      "[1 4 5 6 7]\n",
      "[[123   2   3   4]\n",
      " [  6   7   8   9]]\n"
     ]
    }
   ],
   "source": [
    "import numpy as np\n",
    "arry1d=np.array([1,4,5,6,7])\n",
    "print(arry1d)\n",
    "arry=np.array([[123,2,3,4],[6,7,8,9]])\n",
    "print(arry)"
   ]
  }
 ],
 "metadata": {
  "kernelspec": {
   "display_name": "libaray",
   "language": "python",
   "name": "python3"
  },
  "language_info": {
   "codemirror_mode": {
    "name": "ipython",
    "version": 3
   },
   "file_extension": ".py",
   "mimetype": "text/x-python",
   "name": "python",
   "nbconvert_exporter": "python",
   "pygments_lexer": "ipython3",
   "version": "3.13.5"
  }
 },
 "nbformat": 4,
 "nbformat_minor": 5
}
