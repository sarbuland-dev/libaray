{
 "cells": [
  {
   "cell_type": "code",
   "execution_count": 3,
   "id": "a3128192",
   "metadata": {},
   "outputs": [
    {
     "name": "stdout",
     "output_type": "stream",
     "text": [
      "[1 4 5 6 7]\n",
      "[[123   2   3   4]\n",
      " [  6   7   8   9]]\n",
      "python list [1, 2, 3, 4, 1, 2, 3, 4]\n",
      "python list [2 4 6 8]\n"
     ]
    }
   ],
   "source": [
    "import numpy as np\n",
    "arry1d=np.array([1,4,5,6,7])\n",
    "print(arry1d)\n",
    "arry=np.array([[123,2,3,4],[6,7,8,9]])\n",
    "print(arry)\n",
    "py_list=[1,2,3,4]\n",
    "print(\"python list\",py_list*2)\n",
    "py_list=np.array([1,2,3,4])\n",
    "print(\"python list\",py_list*2)"
   ]
  },
  {
   "cell_type": "code",
   "execution_count": null,
   "id": "36b858a5",
   "metadata": {},
   "outputs": [
    {
     "name": "stdout",
     "output_type": "stream",
     "text": [
      "0.0025866031646728516\n"
     ]
    }
   ],
   "source": [
    "import time\n",
    "start=time.time()\n",
    "my_list=[i*2 for i in range(10000)]\n",
    "print(time.time()-start)\n"
   ]
  }
 ],
 "metadata": {
  "kernelspec": {
   "display_name": "libaray",
   "language": "python",
   "name": "python3"
  },
  "language_info": {
   "codemirror_mode": {
    "name": "ipython",
    "version": 3
   },
   "file_extension": ".py",
   "mimetype": "text/x-python",
   "name": "python",
   "nbconvert_exporter": "python",
   "pygments_lexer": "ipython3",
   "version": "3.13.5"
  }
 },
 "nbformat": 4,
 "nbformat_minor": 5
}
