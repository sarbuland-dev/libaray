{
 "cells": [
  {
   "cell_type": "code",
   "execution_count": 3,
   "id": "a3128192",
   "metadata": {},
   "outputs": [
    {
     "name": "stdout",
     "output_type": "stream",
     "text": [
      "[1 4 5 6 7]\n",
      "[[123   2   3   4]\n",
      " [  6   7   8   9]]\n",
      "python list [1, 2, 3, 4, 1, 2, 3, 4]\n",
      "python list [2 4 6 8]\n"
     ]
    }
   ],
   "source": [
    "import numpy as np\n",
    "arry1d=np.array([1,4,5,6,7])\n",
    "print(arry1d)\n",
    "arry=np.array([[123,2,3,4],[6,7,8,9]])\n",
    "print(arry)\n",
    "py_list=[1,2,3,4]\n",
    "print(\"python list\",py_list*2)\n",
    "py_list=np.array([1,2,3,4])\n",
    "print(\"python list\",py_list*2)"
   ]
  },
  {
   "cell_type": "code",
   "execution_count": 9,
   "id": "36b858a5",
   "metadata": {},
   "outputs": [
    {
     "name": "stdout",
     "output_type": "stream",
     "text": [
      "0.002752542495727539\n",
      "0.002155303955078125\n"
     ]
    }
   ],
   "source": [
    "import time\n",
    "start=time.time()\n",
    "my_list=[i*2 for i in range(10000)]\n",
    "print(time.time()-start)\n",
    "\n",
    "import numpy as np\n",
    "start=time.time()\n",
    "my_arry=np.arange(100000)*2\n",
    "print(time.time()-start)\n"
   ]
  },
  {
   "cell_type": "markdown",
   "id": "19ade7a1",
   "metadata": {},
   "source": [
    "creating array from scratch\n",
    "\n"
   ]
  },
  {
   "cell_type": "code",
   "execution_count": 18,
   "id": "33a1b9e8",
   "metadata": {},
   "outputs": [
    {
     "name": "stdout",
     "output_type": "stream",
     "text": [
      "[[0. 0. 0. 0.]\n",
      " [0. 0. 0. 0.]\n",
      " [0. 0. 0. 0.]]\n",
      "[[1. 1. 1.]\n",
      " [1. 1. 1.]]\n",
      "[['*' '*' '*']\n",
      " ['*' '*' '*']]\n",
      "[[0.09803614 0.19655361 0.58817357]\n",
      " [0.83308658 0.81641987 0.73362803]]\n"
     ]
    }
   ],
   "source": [
    "import numpy as np\n",
    "zero=np.zeros((3,4))\n",
    "print(zero)\n",
    "\n",
    "one=np.ones((2,3))\n",
    "print(one)\n",
    "\n",
    "full=np.full((2,3),\"*\")\n",
    "print(full)\n",
    "\n",
    "random=np.random.random((2,3))\n",
    "print(random)\n",
    "\n"
   ]
  },
  {
   "cell_type": "markdown",
   "id": "6eb51b59",
   "metadata": {},
   "source": [
    "numpy array operation "
   ]
  },
  {
   "cell_type": "code",
   "execution_count": 12,
   "id": "40590a7a",
   "metadata": {},
   "outputs": [
    {
     "name": "stdout",
     "output_type": "stream",
     "text": [
      "with slicing [3 4 5 6 7 8]\n",
      "with slicing with step [3 5 7]\n",
      "negative silicing 7\n",
      "in 2d arry 9\n",
      "in 2d array with no row define [2 5 8]\n"
     ]
    }
   ],
   "source": [
    "import numpy as np\n",
    "arr=np.array([1,2,3,4,5,6,7,8,9])\n",
    "print(\"with slicing\",arr[2:8])\n",
    "arr=np.array([1,2,3,4,5,6,7,8,9])\n",
    "print(\"with slicing with step\",arr[2:8:2])\n",
    "arr=np.array([1,2,3,4,5,6,7,8,9])\n",
    "print(\"negative silicing\",arr[-3])\n",
    "arr=np.array([[1,2,3],\n",
    "              [4,5,6],\n",
    "              [7,8,9]])\n",
    "print(\"in 2d arry\",arr[2,2])\n",
    "arr=np.array([[1,2,3],\n",
    "              [4,5,6],\n",
    "              [7,8,9]])\n",
    "print(\"in 2d array with no row define\",arr[:,1])"
   ]
  },
  {
   "cell_type": "markdown",
   "id": "85649abb",
   "metadata": {},
   "source": [
    "sorting"
   ]
  },
  {
   "cell_type": "code",
   "execution_count": 20,
   "id": "63653be3",
   "metadata": {},
   "outputs": [
    {
     "name": "stdout",
     "output_type": "stream",
     "text": [
      "sorting [0 1 1 2 2 2 3 5 6 8 9]\n",
      "sorting by columns [[1 2 3]\n",
      " [4 4 5]\n",
      " [7 7 8]]\n",
      "even number [ 2  4  6  8 10]\n",
      "mask in even number  [ 6  8 10]\n",
      "even number with mask with index [4 6 8]\n"
     ]
    }
   ],
   "source": [
    "import numpy as np\n",
    "arr=np.array([1,2,6,5,8,1,2,2,3,0,9])\n",
    "print(\"sorting\",np.sort(arr))\n",
    "arr=np.array([[1,4,5],[4,7,8],[7,2,3]])\n",
    "print(\"sorting by columns\",np.sort(arr,axis=0))\n",
    "\n",
    "# even numbers\n",
    "arr=np.array([1,2,3,4,5,6,7,8,9,10])\n",
    "number=arr[arr%2==0]\n",
    "print(\"even number\",number)\n",
    "\n",
    "# add mask on even number\n",
    "mask=number>5\n",
    "print(\"mask in even number \",number[mask])\n",
    "\n",
    "# indexts\n",
    "ind=[1,2,3]\n",
    "print(\"even number with mask with index\",number[ind])\n"
   ]
  }
 ],
 "metadata": {
  "kernelspec": {
   "display_name": "libaray",
   "language": "python",
   "name": "python3"
  },
  "language_info": {
   "codemirror_mode": {
    "name": "ipython",
    "version": 3
   },
   "file_extension": ".py",
   "mimetype": "text/x-python",
   "name": "python",
   "nbconvert_exporter": "python",
   "pygments_lexer": "ipython3",
   "version": "3.13.5"
  }
 },
 "nbformat": 4,
 "nbformat_minor": 5
}
